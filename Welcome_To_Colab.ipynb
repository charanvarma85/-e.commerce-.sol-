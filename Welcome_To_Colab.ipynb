{
  "cells": [
    {
      "cell_type": "markdown",
      "metadata": {
        "id": "view-in-github",
        "colab_type": "text"
      },
      "source": [
        "<a href=\"https://colab.research.google.com/github/charanvarma85/-e.commerce-.sol-/blob/main/Welcome_To_Colab.ipynb\" target=\"_parent\"><img src=\"https://colab.research.google.com/assets/colab-badge.svg\" alt=\"Open In Colab\"/></a>"
      ]
    },
    {
      "cell_type": "code",
      "source": [],
      "metadata": {
        "id": "stwpE1OjmHX_"
      },
      "execution_count": null,
      "outputs": []
    },
    {
      "cell_type": "markdown",
      "source": [
        "# New Section"
      ],
      "metadata": {
        "id": "slFvXQ5EmOPP"
      }
    },
    {
      "cell_type": "markdown",
      "source": [
        "# New Section"
      ],
      "metadata": {
        "id": "-qmDF9xRmRUg"
      }
    },
    {
      "cell_type": "code",
      "source": [
        "!pip install qrcode[pil]\n",
        "\n",
        "import qrcode\n",
        "from IPython.display import display, Markdown\n",
        "import io\n",
        "import base64\n",
        "\n",
        "def create_qr_code_markdown(data, alt_text):\n",
        "    \"\"\"Creates a QR code and returns it as a Markdown image string.\"\"\"\n",
        "    qr = qrcode.QRCode(\n",
        "        version=1,\n",
        "        error_correction=qrcode.constants.ERROR_CORRECT_L,\n",
        "        box_size=10,\n",
        "        border=4,\n",
        "    )\n",
        "    qr.add_data(data)\n",
        "    qr.make(fit=True)\n",
        "\n",
        "    img = qr.make_image(fill_color=\"black\", back_color=\"white\")\n",
        "\n",
        "    # Save image to a bytes buffer\n",
        "    buf = io.BytesIO()\n",
        "    img.save(buf, format='PNG')\n",
        "    image_base64 = base64.b64encode(buf.getvalue()).decode()\n",
        "\n",
        "    return F\"\"\"![{alt_text}](data:image/png;base64,{image_base64})\"\"\"\n",
        "\n",
        "# YouTube link\n",
        "youtube_link = \"https://www.youtube.com/\" # Replace with your YouTube link\n",
        "youtube_qr_markdown = create_qr_code_markdown(youtube_link, \"YouTube QR Code\")\n",
        "display(Markdown(\"### YouTube QR Code\"))\n",
        "display(Markdown(youtube_qr_markdown))\n",
        "\n",
        "# Spotify link\n",
        "spotify_link = \"https://www.spotify.com/\" # Replace with your Spotify link\n",
        "spotify_qr_markdown = create_qr_code_markdown(spotify_link, \"Spotify QR Code\")\n",
        "display(Markdown(\"### Spotify QR Code\"))\n",
        "display(Markdown(spotify_qr_markdown))"
      ],
      "metadata": {
        "colab": {
          "base_uri": "https://localhost:8080/",
          "height": 812
        },
        "id": "VtlUqdoei1UX",
        "outputId": "8b3fd11c-2302-4c32-86ef-f9507e6276ff"
      },
      "execution_count": 2,
      "outputs": [
        {
          "output_type": "stream",
          "name": "stdout",
          "text": [
            "Requirement already satisfied: qrcode[pil] in /usr/local/lib/python3.12/dist-packages (8.2)\n",
            "Requirement already satisfied: pillow>=9.1.0 in /usr/local/lib/python3.12/dist-packages (from qrcode[pil]) (11.3.0)\n"
          ]
        },
        {
          "output_type": "display_data",
          "data": {
            "text/plain": [
              "<IPython.core.display.Markdown object>"
            ],
            "text/markdown": "### YouTube QR Code"
          },
          "metadata": {}
        },
        {
          "output_type": "display_data",
          "data": {
            "text/plain": [
              "<IPython.core.display.Markdown object>"
            ],
            "text/markdown": "![YouTube QR Code](data:image/png;base64,iVBORw0KGgoAAAANSUhEUgAAAUoAAAFKAQAAAABTUiuoAAAB7UlEQVR4nO2aQYrdMBBEqyNDljLkADmKfIMcaa5mHeUfYEBeDshUFpJsfwYST8DfglQvhC2/RUHTUrVkI05G/HaWBIQKFSpUqNArUasxwCYAiGZm09Kmp8sFCP0KGkiSCQCwmr0lRwCOJMln9BoBQr+CLq2E4ugI+A/jDMDMhtcIEPpP6DIAcc/R6wUIPY1ybk823SJA6B+i1ZAngAUwAGD8lcrrsXe+XatQHH0EHBHSPrTpQJLz7VqFltraS4hYVqsDnk+lbtcqtPVb4+7/HG0qw2q187pcgNBzUVdCn8HZ5/JaOy/fPlArYR9oS0/bvDjDkXP5kIGtRVa2OkCP2QqlykgEZpAJbVC2+kAPnpBMjiTzNlerTJ6wFxStrHJLClyzgnuVKVt9oE8OfvmRAf9ugH8fCKwDojmd6vaJ+gx7ewwgH99ZTgxDWu11AoT+JQ57FJMj57b+tZAn7Ac9eMK6g6Wat2IRw/ZF2eoF3e+OiwmMI1BWwhcJEHou9larVFRxglttbYhqqyN0uzsODzPA5/JzBgB5wn7R2m8tZu0sY9Wpbseo/6iWPY6OiD9zu0/uUOv/hn6+O/aJBriMkEY7EPdrFVrRaGZmI9q+hdUAX+9ObLpegNAz8fnuuLxsM357ul2rUKFChQoV+hv/XV2V8fSqdgAAAABJRU5ErkJggg==)"
          },
          "metadata": {}
        },
        {
          "output_type": "display_data",
          "data": {
            "text/plain": [
              "<IPython.core.display.Markdown object>"
            ],
            "text/markdown": "### Spotify QR Code"
          },
          "metadata": {}
        },
        {
          "output_type": "display_data",
          "data": {
            "text/plain": [
              "<IPython.core.display.Markdown object>"
            ],
            "text/markdown": "![Spotify QR Code](data:image/png;base64,iVBORw0KGgoAAAANSUhEUgAAAUoAAAFKAQAAAABTUiuoAAAB9ElEQVR4nO2aQYrjMBBFX40MvbShDzBHkW/WV4uP0jewlgMSfxaS7YQeBifgtqGrFkrivMUH8eVfLpvYWdOvvSQ46qijjjrq6JGoteqwEWAyMxvTcnk8XICjz6BRkjQDUMw+JAFBUv12uABHn0HTYqFpCAKKAWBm3fcIcPQlNHUw2dvXZH9BrT8d1Q0g6o+dJMDR/9RyzvUCEhiAJguCBPcOO12row2dzMxsAOIM9jGDjZQaCb9DgKN7qnprs5BIxdrC473rdK2OLv3WsOW/IBvrUqx1XocLcHRf1ZbqRlBrurbOq5egzwtyulZH61YQlZFm0I0g3eofGdYW2XfrAuh63wqyGgz7GYsCSAMiDaYjBTj62klYvSXltqwuq0eke+t8tHrLooqpNV3vMgBrLiude+sqKLqrOSyZvc8Q/b51VTR11D0CkD67di3Oxbvjy6AtE9JLxBl061Wz/AK4t66DPpyEkohzyxt1y7YezHfrfLSljPYrZEGGaQzZSO/5eAGOvtIdrymjbwbbjkP31tXQdXZcx8Z9rs/lgeCT/sui0uebIJnV0KG5+FPd66LTsET2aQhi+p3bPPmCWn8c+o/ZccgGIUMa7I44X6ujDd1mx+11p2LQt9mJjccLcHRPfZ0dP35W0x0owFFHHXXUUUefQP8CkkxER61gn+MAAAAASUVORK5CYII=)"
          },
          "metadata": {}
        }
      ]
    }
  ],
  "metadata": {
    "colab": {
      "name": "Welcome To Colab",
      "toc_visible": true,
      "provenance": [],
      "include_colab_link": true
    },
    "kernelspec": {
      "display_name": "Python 3",
      "name": "python3"
    }
  },
  "nbformat": 4,
  "nbformat_minor": 0
}